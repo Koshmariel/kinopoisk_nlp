{
 "cells": [
  {
   "cell_type": "code",
   "execution_count": 1,
   "metadata": {},
   "outputs": [],
   "source": [
    "# -*- coding: utf-8 -*-\n",
    "\n",
    "import pandas as pd\n",
    "import numpy as np\n",
    "import re\n",
    "import os\n"
   ]
  },
  {
   "cell_type": "code",
   "execution_count": 2,
   "metadata": {},
   "outputs": [],
   "source": [
    "def findFilesInFolder(path, pathList, extension, subFolders = True):\n",
    "    import os\n",
    "    \"\"\"  Recursive function to find all files of an extension type in a folder (and optionally in all subfolders too)\n",
    "\n",
    "    path:        Base directory to find files\n",
    "    pathList:    A list that stores all paths\n",
    "    extension:   File extension to find\n",
    "    subFolders:  Bool.  If True, find files in all subfolders under path. If False, only searches files in the specified folder\n",
    "    \"\"\"\n",
    "\n",
    "    try:   # Trapping a OSError:  File permissions problem I believe\n",
    "        for entry in os.scandir(path):\n",
    "            if entry.is_file() and entry.path.endswith(extension):\n",
    "                pathList.append(entry.path)\n",
    "            elif entry.is_dir() and subFolders:   # if its a directory, then repeat process as a nested function\n",
    "                pathList = findFilesInFolder(entry.path, pathList, extension, subFolders)\n",
    "    except OSError:\n",
    "        print('Cannot access ' + path +'. Probably a permissions error')\n",
    "\n",
    "    return pathList"
   ]
  },
  {
   "cell_type": "code",
   "execution_count": 3,
   "metadata": {},
   "outputs": [],
   "source": [
    "def uniform_distr(dataset,num_samples=100500):\n",
    "    \"\"\"  Function to select no more then preset number of samples for each score variant\n",
    "\n",
    "    dataset:     Dataset\n",
    "    num_samples  Number of samples for each score variant\n",
    "    \"\"\"\n",
    "    import random\n",
    "    import pandas as pd\n",
    "    score_list= [[] for i in range(11)]   #change if scoring values are different from 0-10\n",
    "    uniform_distr_dataset=pd.DataFrame(columns=dataset.columns.values)\n",
    "    for i in range (0,dataset.shape[0]):\n",
    "        score_list[int(dataset.iloc[i,2])].append(i)\n",
    "    for score in range(0,11):             #change if scoring values are different from 0-10\n",
    "        if len(score_list[score]) < num_samples:\n",
    "            num_samples_tmp = len(score_list[score])\n",
    "        else:\n",
    "            num_samples_tmp = num_samples\n",
    "        selected_samples=random.sample(score_list[score],num_samples_tmp)\n",
    "        uniform_distr_dataset=uniform_distr_dataset.append(dataset.iloc[selected_samples,:],ignore_index=True)\n",
    "    return uniform_distr_dataset"
   ]
  },
  {
   "cell_type": "markdown",
   "metadata": {},
   "source": [
    "###### Next section will allow to play with the model and rate reviews without loading the whole data, processing it and training the model. Answering YES will terminate the script."
   ]
  },
  {
   "cell_type": "code",
   "execution_count": 4,
   "metadata": {},
   "outputs": [
    {
     "name": "stdout",
     "output_type": "stream",
     "text": [
      "Play with the model and rate reviews without loading the whole data, processing it and training the model? (Y/y for yes) y\n",
      "\n",
      "Rating review: Лиззи Магуайр  Люблю актрису-певицу Хилари Дафф. Все фильмы по-своему интересны. Но 'Фильм Лиззи Магуайер' меня очень зацепил!  События происходят в «сердце» Италии – Риме. Совсем случайно, Лиззи превращается на время в суперзвезду, пока настоящая звезда – Изабелла Париджи отдыхает на острове. Все были поражены новым имиджем Изабеллы. Она выглядит как школьница… На протяжении фильма, Лиззи старается вести себя как настоящая звезда. Чтобы никто ничего не заподозрил. Но девушка не подозревает, что Паоло – бывший парень Изабеллы, использует Лиззи. Он хочет выставить Изабеллу посмешищем и убрать её со сцены. Почему меня зацепил фильм? Очень понравился конец фильма. Когда Лиззи выступает на сцене... Замечательная комедия с красивыми видами на Рим! И нельзя не отметить, что игра актёров бесподобна! Всем фанатам Хилари Дафф - обязательно смотреть!\n",
      "Actual rate: 10\n",
      "Predicted rating =  9.72 \n",
      "% eror =  2.83 \n",
      "\n",
      "\n",
      "Rating review: На момент прекрасного 2003 года, когда Вачовски ещё были братьями, а не сёстрами, алчные боссы голливудских киностудий всё чаще задумывались о том, как бы выжить из успешной кинофраншизы побольше денег. Я из числа тех зрителей, которые считают вторую «Матрицу» ничуть не хуже первой, и интригующий финал «Перезагрузки» держал меня в нетерпении. Такая необыкновенная история, в которой великолепно смешаны киберпанк и постапокалиптика, обещала так же необыкновенно и закончиться, но… этого не случилось! Сегодня мы можем сколько угодно выдвигать догадки о том, каким изначально был сценарий третьей «Матрицы», но факт остаётся фактом: третья часть самым неподобающим образом похоронила легендарную франшизу, которая будет актуальна всё третье тысячелетие. Осознание неизбежной трагедии подкрадывается постепенно. Первая треть «Революции» даже радует эпизодами с Проводником и Меровингеном, а также коротким диалогом Нео с отцом счастливого семейства, получившего возможность покинуть виртуальный мир. Но радость длится недолго – уже скоро зелёный мир иллюзий начнёт всё реже баловать зрителей своим присутствием, зато суровая, окрашенная в синий цвет реальность выйдет на передний план, и этим самым уничтожит всю философию – как раз то, что основная зрительская масса высоко ценила в первых двух «Матрицах». Но ведь именно благодаря поводу к размышлениям кино Вачовских было обязано своему широкомасштабному успеху! Сказать бы это ещё тем, кто причастен к созданию итогового сценария «Революции». Судя по всему, даже те, кто не любит размышлений, оказались разочарованы третьей «Матрицей». Стоит, конечно, обратить внимание на то, что это первый фильм, вышедший в высоком качестве, а зрелищности в нём хоть отбавляй, но во всём этом уже нет никакого смысла. И Нео, и Морфеус, и агент Смит потеряли свою колоритность ради того, чтобы происходящее выглядело пафоснее. Улыбки и злорадство Смита теперь выглядят абсолютно недостоверными, и если раньше этот примечательный антагонист радовал нас своими скрытыми намерениями, то теперь он выставляет всего себя напоказ. И что же выходит? А выходит то, что не такой уж Смит и интересный персонаж. То же самое касается Нео и остальных положительных героев. Первый – банальный счастливчик, от которого зависит судьба обоих миров, вторые – типичные борцы за свободу, которыми американские блокбастеры переполняются ещё со времён «Дня Независимости» 1996 года. Что ж. Можно сколько угодно распинаться о том, что Киану Ривз, Хьюго Уивинг, Кэрри-Энн Мосс и Лоренс Фишбёрн по-прежнему играют великолепно, а добавившиеся к актёрскому составу Мэри Элис и Брюс Спенс радуют ничуть не меньше, но по факту все они не вытягивают «Революцию» даже на отметку «удовлетворительно». Слишком много изменений в концепции было сделано для того, чтобы привлечь зрителей пафосом и зрелищностью. Одно только музыкальное сопровождение Дона Дэвиса по-прежнему не лишает события оттенков загадочности. Спасибо хотя бы за это. Как видно, «Революция» не станет последним фильмом во вселенной Матрицы. Хочется верить, что в четвёртой части не будет допущено тех же ошибок, и неправильно закончившиеся истории Нео и Вачовски станут для режиссёров и сценаристов всего мира наглядным примером того, как не стоит поступать с ростками гениальности.\n",
      "Actual rate: 4\n",
      "Predicted rating =  3.33 \n",
      "% eror =  6.66 \n",
      "\n",
      "This example is not from the dataset and could not be seen by the ANN during training or validation.\n",
      "\n",
      "Rating review: Хорошо, что не видела описание, было бы не интересно. Искала фильм про благородство, гугл предложил варианты и я выбрала его! Что же такое благородство? Интернет дает такое определение: Высокая нравственность, соединённая с самоотверженностью и честностью. И ведь именно об этом фильм. О человеке, работнике банка, управленцев, выбравшего в будущие жены своенравную и упрямую девушку. В те времена, в Америке был конфликт между 'южанами' и северным народом Америки. Режиссер показал явно различия между ними. Они состояли в том, что люди устраивали дуэли на юге, чего не было на севере страны. Так вот по сюжету первый раз свое благородство проявил Престон, когда Джули решила наперекор ему и обществу пойти на бал в красном платье, вместо белого. Он выдержал все требования и они ушли домой с неким позором. После этой выходки он проводил ее домой по всем правилам этикета. Но затем он уехал из города и через год вернулся с супругой из Нью Йорка.  Второй раз проявил благородство - это дуэль ради чести, из которой он вышел победителем, убив человека. После этого осознав всю горечь поступка. Можно сказать, что фильм оправдывает термин 'благородство'.\n",
      "Actual rate: 8\n",
      "Predicted rating =  8.81 \n",
      "% eror =  8.10 \n",
      "\n"
     ]
    },
    {
     "ename": "SystemExit",
     "evalue": "Done",
     "output_type": "error",
     "traceback": [
      "An exception has occurred, use %tb to see the full traceback.\n",
      "\u001b[1;31mSystemExit\u001b[0m\u001b[1;31m:\u001b[0m Done\n"
     ]
    },
    {
     "name": "stderr",
     "output_type": "stream",
     "text": [
      "C:\\Anaconda3\\lib\\site-packages\\IPython\\core\\interactiveshell.py:3339: UserWarning: To exit: use 'exit', 'quit', or Ctrl-D.\n",
      "  warn(\"To exit: use 'exit', 'quit', or Ctrl-D.\", stacklevel=1)\n"
     ]
    }
   ],
   "source": [
    "def play_with_me():\n",
    "    \"\"\"This function allows to play with the model and rate reviews without loading the whole data, \n",
    "        processing it and training the model. clean_review function definition and all module \n",
    "        imports were copied here without moving only for keeping the sctructure of the code easier to\n",
    "        understand.\n",
    "     \"\"\"\n",
    "     \n",
    "\n",
    "    # model reconstruction from JSON:\n",
    "    from tensorflow.keras.models import model_from_json\n",
    "    f = open('model.json', \"r\")\n",
    "    json_string=f.read()\n",
    "    model = model_from_json(json_string)\n",
    "\n",
    "    #load model weights\n",
    "    model.load_weights('models_e20_l2.55.hdf5')\n",
    "\n",
    "    #Loading the Bag of Words model\n",
    "#    from sklearn.feature_extraction.text import TfidfTransformer\n",
    "    from sklearn.feature_extraction.text import CountVectorizer\n",
    "    import pickle\n",
    "    cv = CountVectorizer(decode_error=\"replace\",vocabulary=pickle.load(open(\"vocabulary.pkl\", \"rb\")))\n",
    "     \n",
    "    #Rating few examples\n",
    "    review_example_1 = \"Лиззи Магуайр  Люблю актрису-певицу Хилари Дафф. Все фильмы по-своему интересны. Но 'Фильм Лиззи Магуайер' меня очень зацепил!  События происходят в «сердце» Италии – Риме. Совсем случайно, Лиззи превращается на время в суперзвезду, пока настоящая звезда – Изабелла Париджи отдыхает на острове. Все были поражены новым имиджем Изабеллы. Она выглядит как школьница… На протяжении фильма, Лиззи старается вести себя как настоящая звезда. Чтобы никто ничего не заподозрил. Но девушка не подозревает, что Паоло – бывший парень Изабеллы, использует Лиззи. Он хочет выставить Изабеллу посмешищем и убрать её со сцены. Почему меня зацепил фильм? Очень понравился конец фильма. Когда Лиззи выступает на сцене... Замечательная комедия с красивыми видами на Рим! И нельзя не отметить, что игра актёров бесподобна! Всем фанатам Хилари Дафф - обязательно смотреть!\"\n",
    "    rate_example_1 = 10\n",
    "    review_example_2 = \"На момент прекрасного 2003 года, когда Вачовски ещё были братьями, а не сёстрами, алчные боссы голливудских киностудий всё чаще задумывались о том, как бы выжить из успешной кинофраншизы побольше денег. Я из числа тех зрителей, которые считают вторую «Матрицу» ничуть не хуже первой, и интригующий финал «Перезагрузки» держал меня в нетерпении. Такая необыкновенная история, в которой великолепно смешаны киберпанк и постапокалиптика, обещала так же необыкновенно и закончиться, но… этого не случилось! Сегодня мы можем сколько угодно выдвигать догадки о том, каким изначально был сценарий третьей «Матрицы», но факт остаётся фактом: третья часть самым неподобающим образом похоронила легендарную франшизу, которая будет актуальна всё третье тысячелетие. Осознание неизбежной трагедии подкрадывается постепенно. Первая треть «Революции» даже радует эпизодами с Проводником и Меровингеном, а также коротким диалогом Нео с отцом счастливого семейства, получившего возможность покинуть виртуальный мир. Но радость длится недолго – уже скоро зелёный мир иллюзий начнёт всё реже баловать зрителей своим присутствием, зато суровая, окрашенная в синий цвет реальность выйдет на передний план, и этим самым уничтожит всю философию – как раз то, что основная зрительская масса высоко ценила в первых двух «Матрицах». Но ведь именно благодаря поводу к размышлениям кино Вачовских было обязано своему широкомасштабному успеху! Сказать бы это ещё тем, кто причастен к созданию итогового сценария «Революции». Судя по всему, даже те, кто не любит размышлений, оказались разочарованы третьей «Матрицей». Стоит, конечно, обратить внимание на то, что это первый фильм, вышедший в высоком качестве, а зрелищности в нём хоть отбавляй, но во всём этом уже нет никакого смысла. И Нео, и Морфеус, и агент Смит потеряли свою колоритность ради того, чтобы происходящее выглядело пафоснее. Улыбки и злорадство Смита теперь выглядят абсолютно недостоверными, и если раньше этот примечательный антагонист радовал нас своими скрытыми намерениями, то теперь он выставляет всего себя напоказ. И что же выходит? А выходит то, что не такой уж Смит и интересный персонаж. То же самое касается Нео и остальных положительных героев. Первый – банальный счастливчик, от которого зависит судьба обоих миров, вторые – типичные борцы за свободу, которыми американские блокбастеры переполняются ещё со времён «Дня Независимости» 1996 года. Что ж. Можно сколько угодно распинаться о том, что Киану Ривз, Хьюго Уивинг, Кэрри-Энн Мосс и Лоренс Фишбёрн по-прежнему играют великолепно, а добавившиеся к актёрскому составу Мэри Элис и Брюс Спенс радуют ничуть не меньше, но по факту все они не вытягивают «Революцию» даже на отметку «удовлетворительно». Слишком много изменений в концепции было сделано для того, чтобы привлечь зрителей пафосом и зрелищностью. Одно только музыкальное сопровождение Дона Дэвиса по-прежнему не лишает события оттенков загадочности. Спасибо хотя бы за это. Как видно, «Революция» не станет последним фильмом во вселенной Матрицы. Хочется верить, что в четвёртой части не будет допущено тех же ошибок, и неправильно закончившиеся истории Нео и Вачовски станут для режиссёров и сценаристов всего мира наглядным примером того, как не стоит поступать с ростками гениальности.\"\n",
    "    rate_example_2 = 4\n",
    "    #This example is not from the dataset and could not be seen by the ANN during training or validation.\n",
    "    review_example_3 = \"Хорошо, что не видела описание, было бы не интересно. Искала фильм про благородство, гугл предложил варианты и я выбрала его! Что же такое благородство? Интернет дает такое определение: Высокая нравственность, соединённая с самоотверженностью и честностью. И ведь именно об этом фильм. О человеке, работнике банка, управленцев, выбравшего в будущие жены своенравную и упрямую девушку. В те времена, в Америке был конфликт между 'южанами' и северным народом Америки. Режиссер показал явно различия между ними. Они состояли в том, что люди устраивали дуэли на юге, чего не было на севере страны. Так вот по сюжету первый раз свое благородство проявил Престон, когда Джули решила наперекор ему и обществу пойти на бал в красном платье, вместо белого. Он выдержал все требования и они ушли домой с неким позором. После этой выходки он проводил ее домой по всем правилам этикета. Но затем он уехал из города и через год вернулся с супругой из Нью Йорка.  Второй раз проявил благородство - это дуэль ради чести, из которой он вышел победителем, убив человека. После этого осознав всю горечь поступка. Можно сказать, что фильм оправдывает термин 'благородство'.\"\n",
    "    rate_example_3 = 8\n",
    "    \n",
    "    #Cleaning the text\n",
    "    #nltk.download('stopwords') #download stopwords list\n",
    "    from nltk.corpus import stopwords\n",
    "    from nltk.stem.snowball import SnowballStemmer   #Russian stemmer\n",
    "    #from nltk.stem.porter import PorterStemmer  #English stemmer\n",
    "    def clean_review(review):\n",
    "        cleaned_review=re.sub('[^а-яёА-Я]',' ',review) #replacing all characters and symbols except letters with spaces\n",
    "        cleaned_review = cleaned_review.lower() #replacing all letters with lower cases\n",
    "        cleaned_review=re.sub('ё','е',cleaned_review) #replacing ё with е\n",
    "        cleaned_review = cleaned_review.split()\n",
    "        stemmer=SnowballStemmer(\"russian\") \n",
    "        cleaned_review = [stemmer.stem(word) for word in cleaned_review if not word in set(stopwords.words('russian'))]\n",
    "        cleaned_review = ' '.join(cleaned_review)\n",
    "        return cleaned_review\n",
    "\n",
    "    def rate_example(review_example,rate_example):\n",
    "        print ('\\nRating review:', review_example)\n",
    "        print ('Actual rate:', rate_example)\n",
    "        cleaned_example = [clean_review(review_example)]\n",
    "        X_example = cv.transform(cleaned_example).toarray()\n",
    "        #cv.inverse_transform(X_example) #reverse tranformation\n",
    "        y_exapmle=model.predict(X_example)\n",
    "        print('Predicted rating =  {:.2f} '.format(y_exapmle[0,0]))\n",
    "        perc_error = abs(y_exapmle[0,0] - rate_example)/10*100\n",
    "        print('% eror =  {:.2f} \\n'.format(perc_error))\n",
    "    \n",
    "    rate_example(review_example_1,rate_example_1)\n",
    "    rate_example(review_example_2,rate_example_2)\n",
    "    print('This example is not from the dataset and could not be seen by the ANN during training or validation.')\n",
    "    rate_example(review_example_3,rate_example_3)\n",
    "    \n",
    "    import sys\n",
    "    sys.exit(\"Done\")\n",
    "    \n",
    "    \n",
    "play = (input ('Play with the model and rate reviews without loading the whole data, processing it and training the model? (Y/y for yes) ') in ['Y','y'])\n",
    "if play: \n",
    "    play_with_me()"
   ]
  },
  {
   "cell_type": "code",
   "execution_count": 5,
   "metadata": {},
   "outputs": [],
   "source": [
    "dir_name = os.getcwd()+'\\data'\n",
    "extension = \".csv\"\n",
    "\n",
    "pathList = []\n",
    "pathList = findFilesInFolder(dir_name, pathList, extension, False)\n",
    "\n",
    "\n",
    "results_df ='None'\n",
    "for f in pathList:\n",
    "    file_df = pd.read_csv(f)\n",
    "    if type(results_df)== str:\n",
    "        results_df = file_df\n",
    "    else:\n",
    "        results_df = results_df.append(file_df,ignore_index=True)\n",
    "\n",
    "dataset = results_df[['Title','Review','Rate']]\n",
    "\n"
   ]
  },
  {
   "cell_type": "code",
   "execution_count": 6,
   "metadata": {},
   "outputs": [
    {
     "data": {
      "image/png": "[encoded data removed]",
      "text/plain": [
       "<Figure size 432x288 with 1 Axes>"
      ]
     },
     "metadata": {
      "needs_background": "light"
     },
     "output_type": "display_data"
    },
    {
     "name": "stdout",
     "output_type": "stream",
     "text": [
      "Average score: 7.7046511627906975\n",
      "Number of negative scores: 1784\n",
      "Number of positive scores: 10256\n"
     ]
    }
   ],
   "source": [
    "#most people write reviews to movies that they like, therefore to avoid bias toward high rates data should be normalized\n",
    "samples = 2500\n",
    "\n",
    "#visualize the distribution of review rates\n",
    "import matplotlib.pyplot as plt\n",
    "from collections import Counter\n",
    "freqs = Counter(dataset.iloc[:,2].values)\n",
    "plt.bar(freqs.keys(), freqs.values(), width=0.9)\n",
    "plt.plot((np.min(dataset.iloc[:,2].values-0.5), np.max(dataset.iloc[:,2].values)+0.5),(samples,samples),'r')\n",
    "plt.title('Distribution of review rates')\n",
    "plt.xlabel('Rates')\n",
    "plt.ylabel('Samples')\n",
    "plt.show()\n",
    "\n",
    "print('Average score:',np.mean(dataset.iloc[:,2].values))\n",
    "scores_number = [0] * 11\n",
    "pos_scores = 0\n",
    "neg_scores = 0\n",
    "for score in dataset.iloc[:,2].values:\n",
    "    scores_number[int(score)] = scores_number[int(score)] + 1\n",
    "    if score < 6:\n",
    "        neg_scores=neg_scores + 1\n",
    "    else:\n",
    "        pos_scores=pos_scores + 1\n",
    "print('Number of negative scores:', neg_scores)\n",
    "print('Number of positive scores:', pos_scores)"
   ]
  },
  {
   "cell_type": "code",
   "execution_count": 7,
   "metadata": {},
   "outputs": [
    {
     "data": {
      "image/png": "[encoded data removed]",
      "text/plain": [
       "<Figure size 432x288 with 1 Axes>"
      ]
     },
     "metadata": {
      "needs_background": "light"
     },
     "output_type": "display_data"
    },
    {
     "name": "stdout",
     "output_type": "stream",
     "text": [
      "Average score: 7.604368932038835\n",
      "Number of negative scores: 1784\n",
      "Number of positive scores: 9752\n"
     ]
    }
   ],
   "source": [
    "dataset = uniform_distr(dataset,samples)\n",
    "\n",
    "\n",
    "#visualize the normalized distribution of review rates\n",
    "freqs = Counter(dataset.iloc[:,2].values)\n",
    "plt.bar(freqs.keys(), freqs.values(), width=0.9)\n",
    "plt.plot((np.min(dataset.iloc[:,2].values-0.5), np.max(dataset.iloc[:,2].values)+0.5),(samples,samples),'r')\n",
    "plt.title('Normalized distribution of review rates')\n",
    "plt.xlabel('Rates')\n",
    "plt.ylabel('Samples')\n",
    "plt.show()\n",
    "\n",
    "print('Average score:',np.mean(dataset.iloc[:,2].values))\n",
    "scores_number = [0] * 11\n",
    "pos_scores = 0\n",
    "neg_scores = 0\n",
    "for score in dataset.iloc[:,2].values:\n",
    "    scores_number[int(score)] = scores_number[int(score)] + 1\n",
    "    if score < 6:\n",
    "        neg_scores=neg_scores + 1\n",
    "    else:\n",
    "        pos_scores=pos_scores + 1\n",
    "print('Number of negative scores:', neg_scores)\n",
    "print('Number of positive scores:', pos_scores)"
   ]
  },
  {
   "cell_type": "markdown",
   "metadata": {},
   "source": [
    "###### Progress bar that will be used in text cleaning because it could take some time."
   ]
  },
  {
   "cell_type": "code",
   "execution_count": null,
   "metadata": {},
   "outputs": [],
   "source": [
    "def update_progress(progress):\n",
    "    \"\"\"\n",
    "    Displays or updates a console progress bar.\n",
    "    Accepts a float between 0 and 1. Any int will be converted to a float.\n",
    "    A value under 0 represents a 'halt'.\n",
    "    A value at 1 or bigger represents 100%\n",
    "    \"\"\"\n",
    "    \n",
    "    import sys\n",
    "    barLength = 20 # Modify this to change the length of the progress bar\n",
    "    status = \"\"\n",
    "    if isinstance(progress, int):\n",
    "        progress = float(progress)\n",
    "    if not isinstance(progress, float):\n",
    "        progress = 0\n",
    "        status = \"error: progress var must be float\\r\\n\"\n",
    "    if progress < 0:\n",
    "        progress = 0\n",
    "        status = \"Halt...\\r\\n\"\n",
    "    if progress >= 1:\n",
    "        progress = 1\n",
    "        status = \"Done...\\r\\n\"\n",
    "    block = int(round(barLength*progress))\n",
    "    text = \"\\rProgress: [{0}] {1:.2f}% {2}\".format( \"#\"*block + \"-\"*(barLength-block), progress*100, status)\n",
    "    sys.stdout.write(text)\n",
    "    sys.stdout.flush()"
   ]
  },
  {
   "cell_type": "code",
   "execution_count": 9,
   "metadata": {},
   "outputs": [
    {
     "name": "stdout",
     "output_type": "stream",
     "text": [
      "Progress: [####################] 99.99% "
     ]
    }
   ],
   "source": [
    "#Cleaning the text\n",
    "#nltk.download('stopwords') #download stopwords list\n",
    "from nltk.corpus import stopwords\n",
    "from nltk.stem.snowball import SnowballStemmer   #Russian stemmer\n",
    "#from nltk.stem.porter import PorterStemmer  #English stemmer\n",
    "\n",
    "def clean_review(review):\n",
    "    cleaned_review=re.sub('[^а-яёА-Я]',' ',review) #replacing all characters and symbols except letters with spaces\n",
    "    cleaned_review = cleaned_review.lower() #replacing all letters with lower cases\n",
    "    cleaned_review=re.sub('ё','е',cleaned_review) #replacing ё with е\n",
    "    cleaned_review = cleaned_review.split()\n",
    "    stemmer=SnowballStemmer(\"russian\") \n",
    "    cleaned_review = [stemmer.stem(word) for word in cleaned_review if not word in set(stopwords.words('russian'))]\n",
    "    cleaned_review = ' '.join(cleaned_review)\n",
    "    return cleaned_review\n",
    "\n",
    "reviews_corpus = []\n",
    "for i in range(0,dataset.shape[0]):\n",
    "    review = dataset['Review'][i]\n",
    "    cleaned_review = clean_review(review)\n",
    "    reviews_corpus.append(cleaned_review)\n",
    "    update_progress(i/dataset.shape[0])"
   ]
  },
  {
   "cell_type": "code",
   "execution_count": 10,
   "metadata": {},
   "outputs": [],
   "source": [
    "#Creating the Bag of Words model\n",
    "vocabulary_size=4000\n",
    "from sklearn.feature_extraction.text import CountVectorizer\n",
    "cv = CountVectorizer(max_features=vocabulary_size)\n",
    "X = cv.fit_transform(reviews_corpus).toarray()\n",
    "vocabulary=cv.vocabulary_              #vocabulary\n",
    "word_list=cv.get_feature_names()       #ordered word list\n",
    "y=dataset.iloc[:,2].values\n",
    "\n",
    "#Save CountVectorizer vocabulary\n",
    "import pickle\n",
    "pickle.dump(cv.vocabulary_,open(\"vocabulary.pkl\",\"wb\"))"
   ]
  },
  {
   "cell_type": "code",
   "execution_count": 11,
   "metadata": {},
   "outputs": [],
   "source": [
    "#spliting the dataset into the Training set and Test set\n",
    "from sklearn.model_selection import train_test_split\n",
    "X_train, X_test, y_train, y_test = train_test_split(X,y, test_size = 0.20, random_state = 0) \n",
    "\n",
    "import numpy as np\n",
    "X_train = np.asarray(X_train).astype('float64')\n",
    "X_test = np.asarray(X_test).astype('float64')\n",
    "y_train = np.asarray(y_train).astype('float64')\n",
    "y_test = np.asarray(y_test).astype('float64')"
   ]
  },
  {
   "cell_type": "code",
   "execution_count": 12,
   "metadata": {},
   "outputs": [],
   "source": [
    "# Sequential API\n",
    "from tensorflow.keras import models\n",
    "from tensorflow.keras import layers\n",
    "from tensorflow.keras.callbacks import Callback, ReduceLROnPlateau, ModelCheckpoint"
   ]
  },
  {
   "cell_type": "code",
   "execution_count": 13,
   "metadata": {},
   "outputs": [],
   "source": [
    "#record the computation time for each epoch\n",
    "import time\n",
    "class TimeHistory(Callback):\n",
    "    def on_train_begin(self, logs={}):\n",
    "        self.times = []\n",
    "\n",
    "    def on_epoch_begin(self, batch, logs={}):\n",
    "        self.epoch_time_start = time.time()\n",
    "\n",
    "    def on_epoch_end(self, batch, logs={}):\n",
    "        self.times.append(time.time() - self.epoch_time_start)\n",
    "\n",
    "time_callback = TimeHistory()\n",
    "\n",
    "\n",
    "#Learning Rate Reduction\n",
    "#reduce the LR when loss will not decrease for 2 steps\n",
    "learning_rate_reduction = ReduceLROnPlateau(monitor='loss',\n",
    "                                            patience=2,\n",
    "                                            verbose=1,\n",
    "                                            factor=0.5,\n",
    "                                            min_lr=0.00001)\n",
    "\n",
    "#save the best model according to the performance of val_loss\n",
    "#checkpoint = [ModelCheckpoint(filepath='models.hdf5',\n",
    "#                              save_best_only=True,\n",
    "#                              monitor='val_loss])\n",
    "\n",
    "#save every epoch’s model's weights as its own file\n",
    "checkpoint = ModelCheckpoint(filepath='models_e{epoch:02d}_l{val_loss:.2f}.hdf5')\n",
    "\n",
    "\n",
    "callbacks=[time_callback, learning_rate_reduction, checkpoint]\n",
    "\n"
   ]
  },
  {
   "cell_type": "code",
   "execution_count": 14,
   "metadata": {},
   "outputs": [
    {
     "name": "stdout",
     "output_type": "stream",
     "text": [
      "Model: \"sequential\"\n",
      "_________________________________________________________________\n",
      "Layer (type)                 Output Shape              Param #   \n",
      "=================================================================\n",
      "dense (Dense)                (None, 256)               1024256   \n",
      "_________________________________________________________________\n",
      "dropout (Dropout)            (None, 256)               0         \n",
      "_________________________________________________________________\n",
      "dense_1 (Dense)              (None, 256)               65792     \n",
      "_________________________________________________________________\n",
      "dropout_1 (Dropout)          (None, 256)               0         \n",
      "_________________________________________________________________\n",
      "dense_2 (Dense)              (None, 256)               65792     \n",
      "_________________________________________________________________\n",
      "dropout_2 (Dropout)          (None, 256)               0         \n",
      "_________________________________________________________________\n",
      "dense_3 (Dense)              (None, 1)                 257       \n",
      "=================================================================\n",
      "Total params: 1,156,097\n",
      "Trainable params: 1,156,097\n",
      "Non-trainable params: 0\n",
      "_________________________________________________________________\n"
     ]
    }
   ],
   "source": [
    "modelLD = models.Sequential()\n",
    "modelLD.add(layers.Dense(256, activation='relu', input_shape=(vocabulary_size,)))\n",
    "modelLD.add(layers.Dropout(0.25))\n",
    "modelLD.add(layers.Dense(256, activation='relu'))\n",
    "modelLD.add(layers.Dropout(0.25))\n",
    "modelLD.add(layers.Dense(256, activation='relu'))\n",
    "modelLD.add(layers.Dropout(0.25))\n",
    "modelLD.add(layers.Dense(1, activation='linear'))\n",
    "\n",
    "modelLD.compile(optimizer='adam',\n",
    "              loss='mean_squared_error',\n",
    "              metrics=['mean_absolute_error'])\n",
    "\n",
    "modelLD.summary()\n"
   ]
  },
  {
   "cell_type": "code",
   "execution_count": 15,
   "metadata": {},
   "outputs": [],
   "source": [
    "# save the architecture of a model as JSON\n",
    "json_string = modelLD.to_json() \n",
    "f=open('model.json','w')\n",
    "f.write(json_string)\n",
    "f.close()"
   ]
  },
  {
   "cell_type": "code",
   "execution_count": 16,
   "metadata": {},
   "outputs": [
    {
     "name": "stdout",
     "output_type": "stream",
     "text": [
      "Train on 9228 samples, validate on 2308 samples\n",
      "Epoch 1/20\n",
      "9228/9228 [==============================] - 5s 578us/sample - loss: 6.1390 - mean_absolute_error: 1.9141 - val_loss: 3.1495 - val_mean_absolute_error: 1.3830\n",
      "Epoch 2/20\n",
      "9228/9228 [==============================] - 5s 518us/sample - loss: 2.7723 - mean_absolute_error: 1.2910 - val_loss: 2.8459 - val_mean_absolute_error: 1.3421\n",
      "Epoch 3/20\n",
      "9228/9228 [==============================] - 5s 516us/sample - loss: 1.9724 - mean_absolute_error: 1.0904 - val_loss: 3.0676 - val_mean_absolute_error: 1.4066\n",
      "Epoch 4/20\n",
      "9228/9228 [==============================] - 5s 516us/sample - loss: 1.6144 - mean_absolute_error: 0.9913 - val_loss: 3.3227 - val_mean_absolute_error: 1.4701\n",
      "Epoch 5/20\n",
      "9228/9228 [==============================] - 5s 516us/sample - loss: 1.3463 - mean_absolute_error: 0.9060 - val_loss: 2.6818 - val_mean_absolute_error: 1.2812\n",
      "Epoch 6/20\n",
      "9228/9228 [==============================] - 5s 523us/sample - loss: 1.2101 - mean_absolute_error: 0.8615 - val_loss: 2.9569 - val_mean_absolute_error: 1.3748\n",
      "Epoch 7/20\n",
      "9228/9228 [==============================] - 5s 518us/sample - loss: 1.1740 - mean_absolute_error: 0.8474 - val_loss: 3.2788 - val_mean_absolute_error: 1.4666\n",
      "Epoch 8/20\n",
      "9228/9228 [==============================] - 5s 517us/sample - loss: 1.0130 - mean_absolute_error: 0.7871 - val_loss: 2.7451 - val_mean_absolute_error: 1.3057\n",
      "Epoch 9/20\n",
      "9228/9228 [==============================] - 5s 515us/sample - loss: 0.9200 - mean_absolute_error: 0.7433 - val_loss: 2.6785 - val_mean_absolute_error: 1.2813\n",
      "Epoch 10/20\n",
      "9228/9228 [==============================] - 5s 523us/sample - loss: 0.8580 - mean_absolute_error: 0.7218 - val_loss: 2.6553 - val_mean_absolute_error: 1.2689\n",
      "Epoch 11/20\n",
      "9228/9228 [==============================] - 5s 523us/sample - loss: 0.8396 - mean_absolute_error: 0.7110 - val_loss: 2.7896 - val_mean_absolute_error: 1.3119\n",
      "Epoch 12/20\n",
      "9228/9228 [==============================] - 5s 520us/sample - loss: 0.7868 - mean_absolute_error: 0.6841 - val_loss: 2.7289 - val_mean_absolute_error: 1.2857\n",
      "Epoch 13/20\n",
      "9228/9228 [==============================] - 5s 524us/sample - loss: 0.7785 - mean_absolute_error: 0.6810 - val_loss: 2.7458 - val_mean_absolute_error: 1.3080\n",
      "Epoch 14/20\n",
      "9228/9228 [==============================] - 5s 521us/sample - loss: 0.7005 - mean_absolute_error: 0.6465 - val_loss: 2.8489 - val_mean_absolute_error: 1.3210\n",
      "Epoch 15/20\n",
      "9228/9228 [==============================] - 5s 521us/sample - loss: 0.6646 - mean_absolute_error: 0.6326 - val_loss: 2.7699 - val_mean_absolute_error: 1.3106\n",
      "Epoch 16/20\n",
      "9228/9228 [==============================] - 5s 519us/sample - loss: 0.6570 - mean_absolute_error: 0.6242 - val_loss: 2.6510 - val_mean_absolute_error: 1.2692\n",
      "Epoch 17/20\n",
      "9228/9228 [==============================] - 5s 520us/sample - loss: 0.6144 - mean_absolute_error: 0.6041 - val_loss: 2.6431 - val_mean_absolute_error: 1.2562\n",
      "Epoch 18/20\n",
      "9228/9228 [==============================] - 5s 549us/sample - loss: 0.6280 - mean_absolute_error: 0.6006 - val_loss: 2.7968 - val_mean_absolute_error: 1.2965\n",
      "Epoch 19/20\n",
      "9228/9228 [==============================] - 5s 553us/sample - loss: 0.5626 - mean_absolute_error: 0.5766 - val_loss: 2.8439 - val_mean_absolute_error: 1.3196\n",
      "Epoch 20/20\n",
      "9228/9228 [==============================] - 5s 549us/sample - loss: 0.5528 - mean_absolute_error: 0.5718 - val_loss: 2.6645 - val_mean_absolute_error: 1.2559\n"
     ]
    }
   ],
   "source": [
    "historyLD = modelLD.fit(X_train,\n",
    "                      y_train,\n",
    "                      epochs=20, \n",
    "                      batch_size=8,\n",
    "                      validation_data=(X_test, y_test),\n",
    "                      callbacks=callbacks)\n"
   ]
  },
  {
   "cell_type": "code",
   "execution_count": 17,
   "metadata": {},
   "outputs": [],
   "source": [
    "timesLD=time_callback.times\n",
    "\n",
    "\n",
    "maeLD = historyLD.history['mean_absolute_error']\n",
    "val_maeLD = historyLD.history['val_mean_absolute_error']\n",
    "lossLD = historyLD.history['loss']\n",
    "val_lossLD = historyLD.history['val_loss']\n",
    "\n",
    "\n",
    "epochs = range(1, len(maeLD) + 1)\n"
   ]
  },
  {
   "cell_type": "code",
   "execution_count": 18,
   "metadata": {},
   "outputs": [
    {
     "data": {
      "image/png": "[encoded data removed]",
      "text/plain": [
       "<Figure size 1296x648 with 1 Axes>"
      ]
     },
     "metadata": {
      "needs_background": "light"
     },
     "output_type": "display_data"
    },
    {
     "data": {
      "image/png": "[encoded data removed]",
      "text/plain": [
       "<Figure size 1296x648 with 1 Axes>"
      ]
     },
     "metadata": {
      "needs_background": "light"
     },
     "output_type": "display_data"
    },
    {
     "name": "stdout",
     "output_type": "stream",
     "text": [
      "Average epoch computation time for modelLD is: 4.82\n"
     ]
    },
    {
     "data": {
      "text/plain": [
       "<Figure size 1296x648 with 0 Axes>"
      ]
     },
     "metadata": {},
     "output_type": "display_data"
    }
   ],
   "source": [
    "#Visualizing the results\n",
    "import matplotlib.pyplot as plt\n",
    "\n",
    "plt.rcParams['figure.figsize'] = (18,9)\n",
    "#drawing Training and Test loss\n",
    "plt.plot(epochs, lossLD, 'g', label='Training loss')\n",
    "plt.plot(epochs, val_lossLD, 'g--', label='Test loss')\n",
    "plt.title('Training and Test loss')\n",
    "plt.xlabel('Epochs')\n",
    "plt.ylabel('Loss')\n",
    "plt.legend()\n",
    "plt.show()\n",
    "plt.clf()   # clear figure\n",
    "\n",
    "\n",
    "#drawing Training and Test accuracy\n",
    "plt.plot(epochs, maeLD, 'g', label='error')\n",
    "plt.plot(epochs, val_maeLD, 'g--', label='val_error')\n",
    "plt.title('Training and Test error')\n",
    "plt.xlabel('Epochs')\n",
    "plt.ylabel('Errors')\n",
    "plt.legend()\n",
    "plt.show()\n",
    "plt.clf()   # clear figure\n",
    "\n",
    "\n",
    "from statistics import mean\n",
    "print('Average epoch computation time for modelLD is: {:.2f}'.format(mean(timesLD)))"
   ]
  },
  {
   "cell_type": "code",
   "execution_count": 19,
   "metadata": {},
   "outputs": [
    {
     "name": "stdout",
     "output_type": "stream",
     "text": [
      "\n",
      "Rating review: Лиззи Магуайр  Люблю актрису-певицу Хилари Дафф. Все фильмы по-своему интересны. Но 'Фильм Лиззи Магуайер' меня очень зацепил!  События происходят в «сердце» Италии – Риме. Совсем случайно, Лиззи превращается на время в суперзвезду, пока настоящая звезда – Изабелла Париджи отдыхает на острове. Все были поражены новым имиджем Изабеллы. Она выглядит как школьница… На протяжении фильма, Лиззи старается вести себя как настоящая звезда. Чтобы никто ничего не заподозрил. Но девушка не подозревает, что Паоло – бывший парень Изабеллы, использует Лиззи. Он хочет выставить Изабеллу посмешищем и убрать её со сцены. Почему меня зацепил фильм? Очень понравился конец фильма. Когда Лиззи выступает на сцене... Замечательная комедия с красивыми видами на Рим! И нельзя не отметить, что игра актёров бесподобна! Всем фанатам Хилари Дафф - обязательно смотреть!\n",
      "Actual rate: 10\n",
      "Predicted rating =  9.44 \n",
      "% eror =  5.62 \n",
      "\n",
      "\n",
      "Rating review: На момент прекрасного 2003 года, когда Вачовски ещё были братьями, а не сёстрами, алчные боссы голливудских киностудий всё чаще задумывались о том, как бы выжить из успешной кинофраншизы побольше денег. Я из числа тех зрителей, которые считают вторую «Матрицу» ничуть не хуже первой, и интригующий финал «Перезагрузки» держал меня в нетерпении. Такая необыкновенная история, в которой великолепно смешаны киберпанк и постапокалиптика, обещала так же необыкновенно и закончиться, но… этого не случилось! Сегодня мы можем сколько угодно выдвигать догадки о том, каким изначально был сценарий третьей «Матрицы», но факт остаётся фактом: третья часть самым неподобающим образом похоронила легендарную франшизу, которая будет актуальна всё третье тысячелетие. Осознание неизбежной трагедии подкрадывается постепенно. Первая треть «Революции» даже радует эпизодами с Проводником и Меровингеном, а также коротким диалогом Нео с отцом счастливого семейства, получившего возможность покинуть виртуальный мир. Но радость длится недолго – уже скоро зелёный мир иллюзий начнёт всё реже баловать зрителей своим присутствием, зато суровая, окрашенная в синий цвет реальность выйдет на передний план, и этим самым уничтожит всю философию – как раз то, что основная зрительская масса высоко ценила в первых двух «Матрицах». Но ведь именно благодаря поводу к размышлениям кино Вачовских было обязано своему широкомасштабному успеху! Сказать бы это ещё тем, кто причастен к созданию итогового сценария «Революции». Судя по всему, даже те, кто не любит размышлений, оказались разочарованы третьей «Матрицей». Стоит, конечно, обратить внимание на то, что это первый фильм, вышедший в высоком качестве, а зрелищности в нём хоть отбавляй, но во всём этом уже нет никакого смысла. И Нео, и Морфеус, и агент Смит потеряли свою колоритность ради того, чтобы происходящее выглядело пафоснее. Улыбки и злорадство Смита теперь выглядят абсолютно недостоверными, и если раньше этот примечательный антагонист радовал нас своими скрытыми намерениями, то теперь он выставляет всего себя напоказ. И что же выходит? А выходит то, что не такой уж Смит и интересный персонаж. То же самое касается Нео и остальных положительных героев. Первый – банальный счастливчик, от которого зависит судьба обоих миров, вторые – типичные борцы за свободу, которыми американские блокбастеры переполняются ещё со времён «Дня Независимости» 1996 года. Что ж. Можно сколько угодно распинаться о том, что Киану Ривз, Хьюго Уивинг, Кэрри-Энн Мосс и Лоренс Фишбёрн по-прежнему играют великолепно, а добавившиеся к актёрскому составу Мэри Элис и Брюс Спенс радуют ничуть не меньше, но по факту все они не вытягивают «Революцию» даже на отметку «удовлетворительно». Слишком много изменений в концепции было сделано для того, чтобы привлечь зрителей пафосом и зрелищностью. Одно только музыкальное сопровождение Дона Дэвиса по-прежнему не лишает события оттенков загадочности. Спасибо хотя бы за это. Как видно, «Революция» не станет последним фильмом во вселенной Матрицы. Хочется верить, что в четвёртой части не будет допущено тех же ошибок, и неправильно закончившиеся истории Нео и Вачовски станут для режиссёров и сценаристов всего мира наглядным примером того, как не стоит поступать с ростками гениальности.\n",
      "Actual rate: 4\n",
      "Predicted rating =  2.86 \n",
      "% eror =  11.42 \n",
      "\n",
      "This example is not from the dataset and could not be seen by the ANN during training or validation.\n",
      "\n",
      "Rating review: Хорошо, что не видела описание, было бы не интересно. Искала фильм про благородство, гугл предложил варианты и я выбрала его! Что же такое благородство? Интернет дает такое определение: Высокая нравственность, соединённая с самоотверженностью и честностью. И ведь именно об этом фильм. О человеке, работнике банка, управленцев, выбравшего в будущие жены своенравную и упрямую девушку. В те времена, в Америке был конфликт между 'южанами' и северным народом Америки. Режиссер показал явно различия между ними. Они состояли в том, что люди устраивали дуэли на юге, чего не было на севере страны. Так вот по сюжету первый раз свое благородство проявил Престон, когда Джули решила наперекор ему и обществу пойти на бал в красном платье, вместо белого. Он выдержал все требования и они ушли домой с неким позором. После этой выходки он проводил ее домой по всем правилам этикета. Но затем он уехал из города и через год вернулся с супругой из Нью Йорка.  Второй раз проявил благородство - это дуэль ради чести, из которой он вышел победителем, убив человека. После этого осознав всю горечь поступка. Можно сказать, что фильм оправдывает термин 'благородство'.\n",
      "Actual rate: 8\n",
      "Predicted rating =  8.91 \n",
      "% eror =  9.15 \n",
      "\n"
     ]
    }
   ],
   "source": [
    "#Rate review examples\n",
    "review_example_1=\"Лиззи Магуайр  Люблю актрису-певицу Хилари Дафф. Все фильмы по-своему интересны. Но 'Фильм Лиззи Магуайер' меня очень зацепил!  События происходят в «сердце» Италии – Риме. Совсем случайно, Лиззи превращается на время в суперзвезду, пока настоящая звезда – Изабелла Париджи отдыхает на острове. Все были поражены новым имиджем Изабеллы. Она выглядит как школьница… На протяжении фильма, Лиззи старается вести себя как настоящая звезда. Чтобы никто ничего не заподозрил. Но девушка не подозревает, что Паоло – бывший парень Изабеллы, использует Лиззи. Он хочет выставить Изабеллу посмешищем и убрать её со сцены. Почему меня зацепил фильм? Очень понравился конец фильма. Когда Лиззи выступает на сцене... Замечательная комедия с красивыми видами на Рим! И нельзя не отметить, что игра актёров бесподобна! Всем фанатам Хилари Дафф - обязательно смотреть!\"\n",
    "rate_example_1 = 10\n",
    "review_example_2=\"На момент прекрасного 2003 года, когда Вачовски ещё были братьями, а не сёстрами, алчные боссы голливудских киностудий всё чаще задумывались о том, как бы выжить из успешной кинофраншизы побольше денег. Я из числа тех зрителей, которые считают вторую «Матрицу» ничуть не хуже первой, и интригующий финал «Перезагрузки» держал меня в нетерпении. Такая необыкновенная история, в которой великолепно смешаны киберпанк и постапокалиптика, обещала так же необыкновенно и закончиться, но… этого не случилось! Сегодня мы можем сколько угодно выдвигать догадки о том, каким изначально был сценарий третьей «Матрицы», но факт остаётся фактом: третья часть самым неподобающим образом похоронила легендарную франшизу, которая будет актуальна всё третье тысячелетие. Осознание неизбежной трагедии подкрадывается постепенно. Первая треть «Революции» даже радует эпизодами с Проводником и Меровингеном, а также коротким диалогом Нео с отцом счастливого семейства, получившего возможность покинуть виртуальный мир. Но радость длится недолго – уже скоро зелёный мир иллюзий начнёт всё реже баловать зрителей своим присутствием, зато суровая, окрашенная в синий цвет реальность выйдет на передний план, и этим самым уничтожит всю философию – как раз то, что основная зрительская масса высоко ценила в первых двух «Матрицах». Но ведь именно благодаря поводу к размышлениям кино Вачовских было обязано своему широкомасштабному успеху! Сказать бы это ещё тем, кто причастен к созданию итогового сценария «Революции». Судя по всему, даже те, кто не любит размышлений, оказались разочарованы третьей «Матрицей». Стоит, конечно, обратить внимание на то, что это первый фильм, вышедший в высоком качестве, а зрелищности в нём хоть отбавляй, но во всём этом уже нет никакого смысла. И Нео, и Морфеус, и агент Смит потеряли свою колоритность ради того, чтобы происходящее выглядело пафоснее. Улыбки и злорадство Смита теперь выглядят абсолютно недостоверными, и если раньше этот примечательный антагонист радовал нас своими скрытыми намерениями, то теперь он выставляет всего себя напоказ. И что же выходит? А выходит то, что не такой уж Смит и интересный персонаж. То же самое касается Нео и остальных положительных героев. Первый – банальный счастливчик, от которого зависит судьба обоих миров, вторые – типичные борцы за свободу, которыми американские блокбастеры переполняются ещё со времён «Дня Независимости» 1996 года. Что ж. Можно сколько угодно распинаться о том, что Киану Ривз, Хьюго Уивинг, Кэрри-Энн Мосс и Лоренс Фишбёрн по-прежнему играют великолепно, а добавившиеся к актёрскому составу Мэри Элис и Брюс Спенс радуют ничуть не меньше, но по факту все они не вытягивают «Революцию» даже на отметку «удовлетворительно». Слишком много изменений в концепции было сделано для того, чтобы привлечь зрителей пафосом и зрелищностью. Одно только музыкальное сопровождение Дона Дэвиса по-прежнему не лишает события оттенков загадочности. Спасибо хотя бы за это. Как видно, «Революция» не станет последним фильмом во вселенной Матрицы. Хочется верить, что в четвёртой части не будет допущено тех же ошибок, и неправильно закончившиеся истории Нео и Вачовски станут для режиссёров и сценаристов всего мира наглядным примером того, как не стоит поступать с ростками гениальности.\"\n",
    "rate_example_2 = 4\n",
    "#This example is not from the dataset and could not be seen by the ANN during training or validation.\n",
    "review_example_3 = \"Хорошо, что не видела описание, было бы не интересно. Искала фильм про благородство, гугл предложил варианты и я выбрала его! Что же такое благородство? Интернет дает такое определение: Высокая нравственность, соединённая с самоотверженностью и честностью. И ведь именно об этом фильм. О человеке, работнике банка, управленцев, выбравшего в будущие жены своенравную и упрямую девушку. В те времена, в Америке был конфликт между 'южанами' и северным народом Америки. Режиссер показал явно различия между ними. Они состояли в том, что люди устраивали дуэли на юге, чего не было на севере страны. Так вот по сюжету первый раз свое благородство проявил Престон, когда Джули решила наперекор ему и обществу пойти на бал в красном платье, вместо белого. Он выдержал все требования и они ушли домой с неким позором. После этой выходки он проводил ее домой по всем правилам этикета. Но затем он уехал из города и через год вернулся с супругой из Нью Йорка.  Второй раз проявил благородство - это дуэль ради чести, из которой он вышел победителем, убив человека. После этого осознав всю горечь поступка. Можно сказать, что фильм оправдывает термин 'благородство'.\"\n",
    "rate_example_3 = 8\n",
    "\n",
    "\n",
    "\n",
    "def rate_example(review_example,rate_example):\n",
    "    print ('\\nRating review:', review_example)\n",
    "    print ('Actual rate:', rate_example)\n",
    "    cleaned_example = [clean_review(review_example)]\n",
    "    X_example = cv.transform(cleaned_example).toarray()\n",
    "    #cv.inverse_transform(X_example) #reverse tranformation\n",
    "    y_exapmle=modelLD.predict(X_example)\n",
    "    print('Predicted rating =  {:.2f} '.format(y_exapmle[0,0]))\n",
    "    perc_error = abs(y_exapmle[0,0] - rate_example)/10*100\n",
    "    print('% eror =  {:.2f} \\n'.format(perc_error))\n",
    "\n",
    "rate_example(review_example_1,rate_example_1)\n",
    "rate_example(review_example_2,rate_example_2)\n",
    "print('This example is not from the dataset and could not be seen by the ANN during training or validation.')\n",
    "rate_example(review_example_3,rate_example_3)"
   ]
  }
 ],
 "metadata": {
  "kernelspec": {
   "display_name": "Python 3",
   "language": "python",
   "name": "python3"
  },
  "language_info": {
   "codemirror_mode": {
    "name": "ipython",
    "version": 3
   },
   "file_extension": ".py",
   "mimetype": "text/x-python",
   "name": "python",
   "nbconvert_exporter": "python",
   "pygments_lexer": "ipython3",
   "version": "3.7.7"
  }
 },
 "nbformat": 4,
 "nbformat_minor": 4
}
